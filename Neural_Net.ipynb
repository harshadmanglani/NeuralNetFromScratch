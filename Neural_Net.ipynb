{
 "cells": [
  {
   "cell_type": "code",
   "execution_count": 49,
   "metadata": {},
   "outputs": [],
   "source": [
    "import numpy\n",
    "import matplotlib.pyplot\n",
    "import scipy.special\n",
    "%matplotlib inline"
   ]
  },
  {
   "cell_type": "code",
   "execution_count": 50,
   "metadata": {},
   "outputs": [],
   "source": [
    "train_file = open(\"mnist/mnist_train.csv\", \"r\")\n",
    "train_list = train_file.readlines()\n",
    "train_file.close()"
   ]
  },
  {
   "cell_type": "code",
   "execution_count": 51,
   "metadata": {},
   "outputs": [],
   "source": [
    "#neural network class\n",
    "class NeuralNetwork:\n",
    "    def __init__(self, ipnodes, hnodes, opnodes, lrate):\n",
    "        \"\"\"\n",
    "        Initialises the neural network with input hyperparameters\n",
    "        \"\"\"\n",
    "        self.inodes = ipnodes\n",
    "        self.hnodes = hnodes\n",
    "        self.onodes = opnodes\n",
    "        self.lr = lrate\n",
    "        \n",
    "        self.wih = numpy.random.normal(0.0, pow(self.hnodes, -0.5), (self.hnodes, self.inodes))\n",
    "        self.who = numpy.random.normal(0.0, pow(self.onodes, -0.5), (self.onodes, self.hnodes))\n",
    "        \n",
    "        self.activation_f = lambda x: scipy.special.expit(x)\n",
    "        \n",
    "    def printer(self):\n",
    "        \"\"\"\n",
    "        Basic helper function\n",
    "        \"\"\"\n",
    "        print(f'Input nodes: {self.inodes}')\n",
    "        print(f'Hidden nodes: {self.hnodes}')\n",
    "        print(f'Output nodes: {self.onodes}')\n",
    "        print(f'Learning rate: {self.lr}')\n",
    "        print(f'Input-hidden weights: \\n{self.wih}\\n')\n",
    "        print(f'Hidden-output weights:\\n{self.who}\\n')\n",
    "        \n",
    "    def train(self, inputs_list, targets_list):\n",
    "        \"\"\"\n",
    "        This function will train the neural network\n",
    "        \"\"\"\n",
    "        \n",
    "        \n",
    "        #math implementation\n",
    "        inputs = numpy.array(inputs_list, ndmin = 2).T    #changing the orientation of input array\n",
    "        \n",
    "        hidden_inputs = numpy.dot(self.wih, inputs)       #hidden inputs are calculated\n",
    "        hidden_outputs = self.activation_f(hidden_inputs) #hidden outputs from the hidden layer are computed with sigmoid activation\n",
    "        \n",
    "        final_inputs = numpy.dot(self.who, hidden_outputs)#a similar computation for the final layer\n",
    "        final_outputs = self.activation_f(final_inputs)\n",
    "        \n",
    "        targets = numpy.array(targets_list, ndmin = 2).T  #changing the orientation of target values\n",
    "        \n",
    "        output_errors = targets - final_outputs           #to redefine weights between hidden and output layers\n",
    "        \n",
    "        hidden_errors = numpy.dot(self.who.T, output_errors) #to redefine weights between input and hidden layers\n",
    "        \n",
    "        #apply gradient descent weight update equation to weights connecting hidden and output layer\n",
    "        self.who += self.lr*numpy.dot(output_errors*final_outputs*(1 - final_outputs), numpy.transpose(hidden_outputs))\n",
    "        \n",
    "        #apply gradient descent weight update equation to weights connecting input and hidden layer\n",
    "        self.wih += self.lr*numpy.dot(hidden_errors*hidden_outputs*(1 - hidden_outputs), numpy.transpose(inputs))\n",
    "        \n",
    "    \n",
    "    def query(self, inputs_list):\n",
    "        \"\"\"\n",
    "        test function\n",
    "        \"\"\"\n",
    "        \n",
    "        # an identical feed forward computation is implemented here, the only difference is that weights are not updated\n",
    "        inputs = numpy.array(inputs_list, ndmin = 2).T\n",
    "        \n",
    "        hidden_inputs = numpy.dot(self.wih, inputs)\n",
    "        hidden_outputs = self.activation_f(hidden_inputs)\n",
    "        \n",
    "        final_inputs = numpy.dot(self.who, hidden_outputs)\n",
    "        final_outputs = self.activation_f(final_inputs)\n",
    "        \n",
    "        return final_outputs    "
   ]
  },
  {
   "cell_type": "code",
   "execution_count": 52,
   "metadata": {},
   "outputs": [
    {
     "name": "stdout",
     "output_type": "stream",
     "text": [
      "Enter the index of an image to see it, and its correct label5555\n",
      "Correct Label: 0\n"
     ]
    },
    {
     "data": {
      "image/png": "[encoded data removed]",
      "text/plain": [
       "<Figure size 432x288 with 1 Axes>"
      ]
     },
     "metadata": {
      "needs_background": "light"
     },
     "output_type": "display_data"
    }
   ],
   "source": [
    "n = input('Enter the index of an image to see it, and its correct label: ')\n",
    "all_values = train_list[int(n)].split(',')\n",
    "image_array = numpy.asfarray(all_values[1:]).reshape((28,28))\n",
    "matplotlib.pyplot.imshow(image_array, cmap = 'Greys', interpolation = 'None')\n",
    "print('Correct Label:', all_values[0])"
   ]
  },
  {
   "cell_type": "code",
   "execution_count": 53,
   "metadata": {},
   "outputs": [],
   "source": [
    "input_nodes = 784\n",
    "hidden_nodes = 200\n",
    "output_nodes = 10\n",
    "learning_rate = 0.4\n",
    "\n",
    "NN = NeuralNetwork(input_nodes, hidden_nodes, output_nodes, learning_rate)"
   ]
  },
  {
   "cell_type": "code",
   "execution_count": 54,
   "metadata": {},
   "outputs": [
    {
     "name": "stdout",
     "output_type": "stream",
     "text": [
      "epoch:  0\n",
      "epoch:  1\n",
      "epoch:  2\n",
      "epoch:  3\n",
      "epoch:  4\n"
     ]
    }
   ],
   "source": [
    "#training the NN\n",
    "epochs = 5\n",
    "\n",
    "for i in range(epochs):\n",
    "    print(\"epoch: \", i)\n",
    "    #go through all the records in the training set\n",
    "    for record in training_list:\n",
    "        all_values = record.split(',')\n",
    "        inputs = (numpy.asfarray(all_values[1:])/255*0.99) + 0.01\n",
    "        targets = numpy.zeros(10) + 0.01\n",
    "        targets[int(all_values[0])] = 0.99\n",
    "        NN.train(inputs, targets)\n",
    "        pass\n",
    "    pass"
   ]
  },
  {
   "cell_type": "code",
   "execution_count": 56,
   "metadata": {},
   "outputs": [],
   "source": [
    "test_file = open(\"mnist/mnist_test.csv\", \"r\")\n",
    "test_list = test_file.readlines()\n",
    "test_file.close()"
   ]
  },
  {
   "cell_type": "code",
   "execution_count": 57,
   "metadata": {},
   "outputs": [],
   "source": [
    "#testing the NN\n",
    "scorecard = []\n",
    "\n",
    "for record in test_list:\n",
    "    all_values = record.split(',')\n",
    "    correct_label = int(all_values[0])\n",
    "    inputs = (numpy.asfarray(all_values[1:])/255*0.99) + 0.01\n",
    "    \n",
    "    outputs = NN.query(inputs)\n",
    "    \n",
    "    label = numpy.argmax(outputs)\n",
    "    \n",
    "    if (label == correct_label):\n",
    "        scorecard.append(1)\n",
    "        \n",
    "    else:\n",
    "        scorecard.append(0)\n",
    "        pass\n",
    "    pass"
   ]
  },
  {
   "cell_type": "code",
   "execution_count": 61,
   "metadata": {},
   "outputs": [
    {
     "name": "stdout",
     "output_type": "stream",
     "text": [
      "performance:  0.932\n"
     ]
    }
   ],
   "source": [
    "#performance\n",
    "scorecard_array = numpy.asfarray(scorecard)\n",
    "print(\"performance: \", scorecard_array.sum() / scorecard_array.size)"
   ]
  },
  {
   "cell_type": "code",
   "execution_count": null,
   "metadata": {},
   "outputs": [],
   "source": []
  }
 ],
 "metadata": {
  "kernelspec": {
   "display_name": "Python 3",
   "language": "python",
   "name": "python3"
  },
  "language_info": {
   "codemirror_mode": {
    "name": "ipython",
    "version": 3
   },
   "file_extension": ".py",
   "mimetype": "text/x-python",
   "name": "python",
   "nbconvert_exporter": "python",
   "pygments_lexer": "ipython3",
   "version": "3.7.4"
  }
 },
 "nbformat": 4,
 "nbformat_minor": 2
}
